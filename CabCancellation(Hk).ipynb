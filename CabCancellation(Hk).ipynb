{
  "nbformat": 4,
  "nbformat_minor": 0,
  "metadata": {
    "colab": {
      "provenance": []
    },
    "kernelspec": {
      "name": "python3",
      "display_name": "Python 3"
    },
    "language_info": {
      "name": "python"
    }
  },
  "cells": [
    {
      "cell_type": "markdown",
      "source": [
        "#  Project :- CAB CANCELLATION\n"
      ],
      "metadata": {
        "id": "9lFrarPRLJt8"
      }
    },
    {
      "cell_type": "markdown",
      "source": [
        "This project aims to develop a machine learning model that can predict whether\n",
        "a cab booking will be canceled. This prediction can help the cab service company reduce operational disruptions and allocate resources more efficiently."
      ],
      "metadata": {
        "id": "Y1kp2yEtIbbd"
      }
    },
    {
      "cell_type": "markdown",
      "source": [
        "# Problems :\n",
        "Booking cancellations occur close to the trip start time,causing inconvenience to passengers.\n"
      ],
      "metadata": {
        "id": "IvCY1QdRIwgn"
      }
    },
    {
      "cell_type": "code",
      "execution_count": 220,
      "metadata": {
        "id": "fRSd0ilLLEjc"
      },
      "outputs": [],
      "source": [
        "import os\n",
        "import numpy as np\n",
        "import pandas as pd\n",
        "import matplotlib.pyplot as plt\n",
        "import seaborn as sns\n",
        "sns.set()\n",
        "from sklearn.model_selection import train_test_split\n",
        "from sklearn.preprocessing import StandardScaler\n",
        "\n",
        "from sklearn.linear_model import LogisticRegression\n",
        "from sklearn.metrics import classification_report, confusion_matrix, accuracy_score\n",
        "\n",
        "%matplotlib inline\n",
        "\n",
        "import warnings\n",
        "warnings.filterwarnings('ignore')"
      ]
    },
    {
      "cell_type": "code",
      "source": [
        "df=pd.read_csv('/content/YourCabs.csv')\n",
        "df.head()"
      ],
      "metadata": {
        "colab": {
          "base_uri": "https://localhost:8080/",
          "height": 399
        },
        "id": "4o9ZDX8pLU97",
        "outputId": "e6d738c1-e3a4-49a9-bc91-4b43d62e82d5"
      },
      "execution_count": 221,
      "outputs": [
        {
          "output_type": "execute_result",
          "data": {
            "text/plain": [
              "       id  user_id  vehicle_model_id  travel_type_id  package_id  \\\n",
              "0  132512    22177                28               2         NaN   \n",
              "1  132513    21413                12               2         NaN   \n",
              "2  132514    22178                12               2         NaN   \n",
              "3  132515    13034                12               2         NaN   \n",
              "4  132517    22180                12               2         NaN   \n",
              "\n",
              "   from_area_id  to_area_id  from_city_id  to_city_id         from_date  \\\n",
              "0          83.0       448.0           NaN         NaN  01-01-2013 02:00   \n",
              "1        1010.0       540.0           NaN         NaN  01-01-2013 09:00   \n",
              "2        1301.0      1034.0           NaN         NaN  01-01-2013 03:30   \n",
              "3         768.0       398.0           NaN         NaN  01-01-2013 05:45   \n",
              "4        1365.0       849.0           NaN         NaN  01-01-2013 09:00   \n",
              "\n",
              "   online_booking  mobile_site_booking   booking_created   from_lat  \\\n",
              "0               0                    0  01-01-2013 01:39  12.924150   \n",
              "1               0                    0  01-01-2013 02:25  12.966910   \n",
              "2               0                    0  01-01-2013 03:08  12.937222   \n",
              "3               0                    0  01-01-2013 04:39  12.989990   \n",
              "4               0                    0  01-01-2013 07:53  12.845653   \n",
              "\n",
              "   from_long     to_lat    to_long  Car_Cancellation  \n",
              "0  77.672290  12.927320  77.635750                 0  \n",
              "1  77.749350  12.927680  77.626640                 0  \n",
              "2  77.626915  13.047926  77.597766                 0  \n",
              "3  77.553320  12.971430  77.639140                 0  \n",
              "4  77.677925  12.954340  77.600720                 0  "
            ],
            "text/html": [
              "\n",
              "  <div id=\"df-c991c392-0ef8-4918-9b22-3f5217b68bea\" class=\"colab-df-container\">\n",
              "    <div>\n",
              "<style scoped>\n",
              "    .dataframe tbody tr th:only-of-type {\n",
              "        vertical-align: middle;\n",
              "    }\n",
              "\n",
              "    .dataframe tbody tr th {\n",
              "        vertical-align: top;\n",
              "    }\n",
              "\n",
              "    .dataframe thead th {\n",
              "        text-align: right;\n",
              "    }\n",
              "</style>\n",
              "<table border=\"1\" class=\"dataframe\">\n",
              "  <thead>\n",
              "    <tr style=\"text-align: right;\">\n",
              "      <th></th>\n",
              "      <th>id</th>\n",
              "      <th>user_id</th>\n",
              "      <th>vehicle_model_id</th>\n",
              "      <th>travel_type_id</th>\n",
              "      <th>package_id</th>\n",
              "      <th>from_area_id</th>\n",
              "      <th>to_area_id</th>\n",
              "      <th>from_city_id</th>\n",
              "      <th>to_city_id</th>\n",
              "      <th>from_date</th>\n",
              "      <th>online_booking</th>\n",
              "      <th>mobile_site_booking</th>\n",
              "      <th>booking_created</th>\n",
              "      <th>from_lat</th>\n",
              "      <th>from_long</th>\n",
              "      <th>to_lat</th>\n",
              "      <th>to_long</th>\n",
              "      <th>Car_Cancellation</th>\n",
              "    </tr>\n",
              "  </thead>\n",
              "  <tbody>\n",
              "    <tr>\n",
              "      <th>0</th>\n",
              "      <td>132512</td>\n",
              "      <td>22177</td>\n",
              "      <td>28</td>\n",
              "      <td>2</td>\n",
              "      <td>NaN</td>\n",
              "      <td>83.0</td>\n",
              "      <td>448.0</td>\n",
              "      <td>NaN</td>\n",
              "      <td>NaN</td>\n",
              "      <td>01-01-2013 02:00</td>\n",
              "      <td>0</td>\n",
              "      <td>0</td>\n",
              "      <td>01-01-2013 01:39</td>\n",
              "      <td>12.924150</td>\n",
              "      <td>77.672290</td>\n",
              "      <td>12.927320</td>\n",
              "      <td>77.635750</td>\n",
              "      <td>0</td>\n",
              "    </tr>\n",
              "    <tr>\n",
              "      <th>1</th>\n",
              "      <td>132513</td>\n",
              "      <td>21413</td>\n",
              "      <td>12</td>\n",
              "      <td>2</td>\n",
              "      <td>NaN</td>\n",
              "      <td>1010.0</td>\n",
              "      <td>540.0</td>\n",
              "      <td>NaN</td>\n",
              "      <td>NaN</td>\n",
              "      <td>01-01-2013 09:00</td>\n",
              "      <td>0</td>\n",
              "      <td>0</td>\n",
              "      <td>01-01-2013 02:25</td>\n",
              "      <td>12.966910</td>\n",
              "      <td>77.749350</td>\n",
              "      <td>12.927680</td>\n",
              "      <td>77.626640</td>\n",
              "      <td>0</td>\n",
              "    </tr>\n",
              "    <tr>\n",
              "      <th>2</th>\n",
              "      <td>132514</td>\n",
              "      <td>22178</td>\n",
              "      <td>12</td>\n",
              "      <td>2</td>\n",
              "      <td>NaN</td>\n",
              "      <td>1301.0</td>\n",
              "      <td>1034.0</td>\n",
              "      <td>NaN</td>\n",
              "      <td>NaN</td>\n",
              "      <td>01-01-2013 03:30</td>\n",
              "      <td>0</td>\n",
              "      <td>0</td>\n",
              "      <td>01-01-2013 03:08</td>\n",
              "      <td>12.937222</td>\n",
              "      <td>77.626915</td>\n",
              "      <td>13.047926</td>\n",
              "      <td>77.597766</td>\n",
              "      <td>0</td>\n",
              "    </tr>\n",
              "    <tr>\n",
              "      <th>3</th>\n",
              "      <td>132515</td>\n",
              "      <td>13034</td>\n",
              "      <td>12</td>\n",
              "      <td>2</td>\n",
              "      <td>NaN</td>\n",
              "      <td>768.0</td>\n",
              "      <td>398.0</td>\n",
              "      <td>NaN</td>\n",
              "      <td>NaN</td>\n",
              "      <td>01-01-2013 05:45</td>\n",
              "      <td>0</td>\n",
              "      <td>0</td>\n",
              "      <td>01-01-2013 04:39</td>\n",
              "      <td>12.989990</td>\n",
              "      <td>77.553320</td>\n",
              "      <td>12.971430</td>\n",
              "      <td>77.639140</td>\n",
              "      <td>0</td>\n",
              "    </tr>\n",
              "    <tr>\n",
              "      <th>4</th>\n",
              "      <td>132517</td>\n",
              "      <td>22180</td>\n",
              "      <td>12</td>\n",
              "      <td>2</td>\n",
              "      <td>NaN</td>\n",
              "      <td>1365.0</td>\n",
              "      <td>849.0</td>\n",
              "      <td>NaN</td>\n",
              "      <td>NaN</td>\n",
              "      <td>01-01-2013 09:00</td>\n",
              "      <td>0</td>\n",
              "      <td>0</td>\n",
              "      <td>01-01-2013 07:53</td>\n",
              "      <td>12.845653</td>\n",
              "      <td>77.677925</td>\n",
              "      <td>12.954340</td>\n",
              "      <td>77.600720</td>\n",
              "      <td>0</td>\n",
              "    </tr>\n",
              "  </tbody>\n",
              "</table>\n",
              "</div>\n",
              "    <div class=\"colab-df-buttons\">\n",
              "      \n",
              "  <div class=\"colab-df-container\">\n",
              "    <button class=\"colab-df-convert\" onclick=\"convertToInteractive('df-c991c392-0ef8-4918-9b22-3f5217b68bea')\"\n",
              "            title=\"Convert this dataframe to an interactive table.\"\n",
              "            style=\"display:none;\">\n",
              "      \n",
              "  <svg xmlns=\"http://www.w3.org/2000/svg\" height=\"24px\" viewBox=\"0 -960 960 960\">\n",
              "    <path d=\"M120-120v-720h720v720H120Zm60-500h600v-160H180v160Zm220 220h160v-160H400v160Zm0 220h160v-160H400v160ZM180-400h160v-160H180v160Zm440 0h160v-160H620v160ZM180-180h160v-160H180v160Zm440 0h160v-160H620v160Z\"/>\n",
              "  </svg>\n",
              "    </button>\n",
              "    \n",
              "  <style>\n",
              "    .colab-df-container {\n",
              "      display:flex;\n",
              "      gap: 12px;\n",
              "    }\n",
              "\n",
              "    .colab-df-convert {\n",
              "      background-color: #E8F0FE;\n",
              "      border: none;\n",
              "      border-radius: 50%;\n",
              "      cursor: pointer;\n",
              "      display: none;\n",
              "      fill: #1967D2;\n",
              "      height: 32px;\n",
              "      padding: 0 0 0 0;\n",
              "      width: 32px;\n",
              "    }\n",
              "\n",
              "    .colab-df-convert:hover {\n",
              "      background-color: #E2EBFA;\n",
              "      box-shadow: 0px 1px 2px rgba(60, 64, 67, 0.3), 0px 1px 3px 1px rgba(60, 64, 67, 0.15);\n",
              "      fill: #174EA6;\n",
              "    }\n",
              "\n",
              "    .colab-df-buttons div {\n",
              "      margin-bottom: 4px;\n",
              "    }\n",
              "\n",
              "    [theme=dark] .colab-df-convert {\n",
              "      background-color: #3B4455;\n",
              "      fill: #D2E3FC;\n",
              "    }\n",
              "\n",
              "    [theme=dark] .colab-df-convert:hover {\n",
              "      background-color: #434B5C;\n",
              "      box-shadow: 0px 1px 3px 1px rgba(0, 0, 0, 0.15);\n",
              "      filter: drop-shadow(0px 1px 2px rgba(0, 0, 0, 0.3));\n",
              "      fill: #FFFFFF;\n",
              "    }\n",
              "  </style>\n",
              "\n",
              "    <script>\n",
              "      const buttonEl =\n",
              "        document.querySelector('#df-c991c392-0ef8-4918-9b22-3f5217b68bea button.colab-df-convert');\n",
              "      buttonEl.style.display =\n",
              "        google.colab.kernel.accessAllowed ? 'block' : 'none';\n",
              "\n",
              "      async function convertToInteractive(key) {\n",
              "        const element = document.querySelector('#df-c991c392-0ef8-4918-9b22-3f5217b68bea');\n",
              "        const dataTable =\n",
              "          await google.colab.kernel.invokeFunction('convertToInteractive',\n",
              "                                                    [key], {});\n",
              "        if (!dataTable) return;\n",
              "\n",
              "        const docLinkHtml = 'Like what you see? Visit the ' +\n",
              "          '<a target=\"_blank\" href=https://colab.research.google.com/notebooks/data_table.ipynb>data table notebook</a>'\n",
              "          + ' to learn more about interactive tables.';\n",
              "        element.innerHTML = '';\n",
              "        dataTable['output_type'] = 'display_data';\n",
              "        await google.colab.output.renderOutput(dataTable, element);\n",
              "        const docLink = document.createElement('div');\n",
              "        docLink.innerHTML = docLinkHtml;\n",
              "        element.appendChild(docLink);\n",
              "      }\n",
              "    </script>\n",
              "  </div>\n",
              "  \n",
              "    </div>\n",
              "  </div>\n",
              "  "
            ],
            "application/vnd.google.colaboratory.intrinsic+json": {
              "type": "dataframe",
              "variable_name": "df",
              "summary": "{\n  \"name\": \"df\",\n  \"rows\": 43431,\n  \"fields\": [\n    {\n      \"column\": \"id\",\n      \"properties\": {\n        \"dtype\": \"number\",\n        \"std\": 15442,\n        \"min\": 132512,\n        \"max\": 185941,\n        \"num_unique_values\": 43431,\n        \"samples\": [\n          142472,\n          159830,\n          134709\n        ],\n        \"semantic_type\": \"\",\n        \"description\": \"\"\n      }\n    },\n    {\n      \"column\": \"user_id\",\n      \"properties\": {\n        \"dtype\": \"number\",\n        \"std\": 10996,\n        \"min\": 16,\n        \"max\": 48730,\n        \"num_unique_values\": 22267,\n        \"samples\": [\n          37158,\n          46165,\n          46398\n        ],\n        \"semantic_type\": \"\",\n        \"description\": \"\"\n      }\n    },\n    {\n      \"column\": \"vehicle_model_id\",\n      \"properties\": {\n        \"dtype\": \"number\",\n        \"std\": 26,\n        \"min\": 1,\n        \"max\": 91,\n        \"num_unique_values\": 27,\n        \"samples\": [\n          23,\n          86,\n          36\n        ],\n        \"semantic_type\": \"\",\n        \"description\": \"\"\n      }\n    },\n    {\n      \"column\": \"travel_type_id\",\n      \"properties\": {\n        \"dtype\": \"number\",\n        \"std\": 0,\n        \"min\": 1,\n        \"max\": 3,\n        \"num_unique_values\": 3,\n        \"samples\": [\n          2,\n          1,\n          3\n        ],\n        \"semantic_type\": \"\",\n        \"description\": \"\"\n      }\n    },\n    {\n      \"column\": \"package_id\",\n      \"properties\": {\n        \"dtype\": \"number\",\n        \"std\": 1.4617558024790902,\n        \"min\": 1.0,\n        \"max\": 7.0,\n        \"num_unique_values\": 7,\n        \"samples\": [\n          2.0,\n          1.0,\n          6.0\n        ],\n        \"semantic_type\": \"\",\n        \"description\": \"\"\n      }\n    },\n    {\n      \"column\": \"from_area_id\",\n      \"properties\": {\n        \"dtype\": \"number\",\n        \"std\": 419.88355280119833,\n        \"min\": 2.0,\n        \"max\": 1403.0,\n        \"num_unique_values\": 598,\n        \"samples\": [\n          25.0,\n          822.0,\n          428.0\n        ],\n        \"semantic_type\": \"\",\n        \"description\": \"\"\n      }\n    },\n    {\n      \"column\": \"to_area_id\",\n      \"properties\": {\n        \"dtype\": \"number\",\n        \"std\": 400.6382250313094,\n        \"min\": 2.0,\n        \"max\": 1403.0,\n        \"num_unique_values\": 568,\n        \"samples\": [\n          1070.0,\n          220.0,\n          1217.0\n        ],\n        \"semantic_type\": \"\",\n        \"description\": \"\"\n      }\n    },\n    {\n      \"column\": \"from_city_id\",\n      \"properties\": {\n        \"dtype\": \"number\",\n        \"std\": 1.1653058068357123,\n        \"min\": 1.0,\n        \"max\": 31.0,\n        \"num_unique_values\": 3,\n        \"samples\": [\n          15.0,\n          1.0,\n          31.0\n        ],\n        \"semantic_type\": \"\",\n        \"description\": \"\"\n      }\n    },\n    {\n      \"column\": \"to_city_id\",\n      \"properties\": {\n        \"dtype\": \"number\",\n        \"std\": 49.880731935266596,\n        \"min\": 4.0,\n        \"max\": 203.0,\n        \"num_unique_values\": 116,\n        \"samples\": [\n          121.0,\n          160.0,\n          51.0\n        ],\n        \"semantic_type\": \"\",\n        \"description\": \"\"\n      }\n    },\n    {\n      \"column\": \"from_date\",\n      \"properties\": {\n        \"dtype\": \"category\",\n        \"num_unique_values\": 20377,\n        \"samples\": [\n          \"09-02-2013 06:30\",\n          \"02-10-2013 08:45\",\n          \"01-09-2013 20:00\"\n        ],\n        \"semantic_type\": \"\",\n        \"description\": \"\"\n      }\n    },\n    {\n      \"column\": \"online_booking\",\n      \"properties\": {\n        \"dtype\": \"number\",\n        \"std\": 0,\n        \"min\": 0,\n        \"max\": 1,\n        \"num_unique_values\": 2,\n        \"samples\": [\n          1,\n          0\n        ],\n        \"semantic_type\": \"\",\n        \"description\": \"\"\n      }\n    },\n    {\n      \"column\": \"mobile_site_booking\",\n      \"properties\": {\n        \"dtype\": \"number\",\n        \"std\": 0,\n        \"min\": 0,\n        \"max\": 1,\n        \"num_unique_values\": 2,\n        \"samples\": [\n          1,\n          0\n        ],\n        \"semantic_type\": \"\",\n        \"description\": \"\"\n      }\n    },\n    {\n      \"column\": \"booking_created\",\n      \"properties\": {\n        \"dtype\": \"string\",\n        \"num_unique_values\": 39349,\n        \"samples\": [\n          \"11-10-2013 16:50\",\n          \"1/18/2013 17:02\"\n        ],\n        \"semantic_type\": \"\",\n        \"description\": \"\"\n      }\n    },\n    {\n      \"column\": \"from_lat\",\n      \"properties\": {\n        \"dtype\": \"number\",\n        \"std\": 0.0859325269533176,\n        \"min\": 12.77663,\n        \"max\": 13.366072,\n        \"num_unique_values\": 466,\n        \"samples\": [\n          12.94788,\n          12.849482\n        ],\n        \"semantic_type\": \"\",\n        \"description\": \"\"\n      }\n    },\n    {\n      \"column\": \"from_long\",\n      \"properties\": {\n        \"dtype\": \"number\",\n        \"std\": 0.05939097610639364,\n        \"min\": 77.38693,\n        \"max\": 77.78642,\n        \"num_unique_values\": 462,\n        \"samples\": [\n          77.71803,\n          77.68465\n        ],\n        \"semantic_type\": \"\",\n        \"description\": \"\"\n      }\n    },\n    {\n      \"column\": \"to_lat\",\n      \"properties\": {\n        \"dtype\": \"number\",\n        \"std\": 0.113487429423058,\n        \"min\": 12.77663,\n        \"max\": 13.366072,\n        \"num_unique_values\": 450,\n        \"samples\": [\n          12.97739,\n          12.968553\n        ],\n        \"semantic_type\": \"\",\n        \"description\": \"\"\n      }\n    },\n    {\n      \"column\": \"to_long\",\n      \"properties\": {\n        \"dtype\": \"number\",\n        \"std\": 0.06404529897946568,\n        \"min\": 77.38693,\n        \"max\": 77.78642,\n        \"num_unique_values\": 447,\n        \"samples\": [\n          77.521806,\n          77.690567\n        ],\n        \"semantic_type\": \"\",\n        \"description\": \"\"\n      }\n    },\n    {\n      \"column\": \"Car_Cancellation\",\n      \"properties\": {\n        \"dtype\": \"number\",\n        \"std\": 0,\n        \"min\": 0,\n        \"max\": 1,\n        \"num_unique_values\": 2,\n        \"samples\": [\n          1,\n          0\n        ],\n        \"semantic_type\": \"\",\n        \"description\": \"\"\n      }\n    }\n  ]\n}"
            }
          },
          "metadata": {},
          "execution_count": 221
        }
      ]
    },
    {
      "cell_type": "code",
      "source": [
        "df.shape"
      ],
      "metadata": {
        "colab": {
          "base_uri": "https://localhost:8080/"
        },
        "id": "QYUYGmJlLbtg",
        "outputId": "bdcf56d4-7a50-4023-84fd-d7ec9de4298d"
      },
      "execution_count": 222,
      "outputs": [
        {
          "output_type": "execute_result",
          "data": {
            "text/plain": [
              "(43431, 18)"
            ]
          },
          "metadata": {},
          "execution_count": 222
        }
      ]
    },
    {
      "cell_type": "code",
      "source": [
        "df.info()"
      ],
      "metadata": {
        "colab": {
          "base_uri": "https://localhost:8080/"
        },
        "id": "q9Pg_8EYLdQQ",
        "outputId": "0599cedd-0b6c-4721-c37c-183a0d4b4197"
      },
      "execution_count": 223,
      "outputs": [
        {
          "output_type": "stream",
          "name": "stdout",
          "text": [
            "<class 'pandas.core.frame.DataFrame'>\n",
            "RangeIndex: 43431 entries, 0 to 43430\n",
            "Data columns (total 18 columns):\n",
            " #   Column               Non-Null Count  Dtype  \n",
            "---  ------               --------------  -----  \n",
            " 0   id                   43431 non-null  int64  \n",
            " 1   user_id              43431 non-null  int64  \n",
            " 2   vehicle_model_id     43431 non-null  int64  \n",
            " 3   travel_type_id       43431 non-null  int64  \n",
            " 4   package_id           7550 non-null   float64\n",
            " 5   from_area_id         43343 non-null  float64\n",
            " 6   to_area_id           34293 non-null  float64\n",
            " 7   from_city_id         16345 non-null  float64\n",
            " 8   to_city_id           1588 non-null   float64\n",
            " 9   from_date            43431 non-null  object \n",
            " 10  online_booking       43431 non-null  int64  \n",
            " 11  mobile_site_booking  43431 non-null  int64  \n",
            " 12  booking_created      43431 non-null  object \n",
            " 13  from_lat             43338 non-null  float64\n",
            " 14  from_long            43338 non-null  float64\n",
            " 15  to_lat               34293 non-null  float64\n",
            " 16  to_long              34293 non-null  float64\n",
            " 17  Car_Cancellation     43431 non-null  int64  \n",
            "dtypes: float64(9), int64(7), object(2)\n",
            "memory usage: 6.0+ MB\n"
          ]
        }
      ]
    },
    {
      "cell_type": "code",
      "source": [
        "df.describe()"
      ],
      "metadata": {
        "colab": {
          "base_uri": "https://localhost:8080/",
          "height": 320
        },
        "id": "SdWW83LFLe-d",
        "outputId": "b1800e89-9a57-4fe3-b8dd-fef22a3550f5"
      },
      "execution_count": 224,
      "outputs": [
        {
          "output_type": "execute_result",
          "data": {
            "text/plain": [
              "                  id       user_id  vehicle_model_id  travel_type_id  \\\n",
              "count   43431.000000  43431.000000       43431.00000    43431.000000   \n",
              "mean   159206.473556  30739.198153          25.71723        2.137252   \n",
              "std     15442.386279  10996.476709          26.79825        0.437712   \n",
              "min    132512.000000     16.000000           1.00000        1.000000   \n",
              "25%    145778.000000  24614.000000          12.00000        2.000000   \n",
              "50%    159248.000000  31627.000000          12.00000        2.000000   \n",
              "75%    172578.500000  39167.000000          24.00000        2.000000   \n",
              "max    185941.000000  48730.000000          91.00000        3.000000   \n",
              "\n",
              "        package_id  from_area_id    to_area_id  from_city_id   to_city_id  \\\n",
              "count  7550.000000  43343.000000  34293.000000  16345.000000  1588.000000   \n",
              "mean      2.030066    714.544494    669.490917     14.915081    68.537783   \n",
              "std       1.461756    419.883553    400.638225      1.165306    49.880732   \n",
              "min       1.000000      2.000000      2.000000      1.000000     4.000000   \n",
              "25%       1.000000    393.000000    393.000000     15.000000    32.000000   \n",
              "50%       2.000000    590.000000    541.000000     15.000000    49.000000   \n",
              "75%       2.000000   1089.000000   1054.000000     15.000000   108.000000   \n",
              "max       7.000000   1403.000000   1403.000000     31.000000   203.000000   \n",
              "\n",
              "       online_booking  mobile_site_booking      from_lat     from_long  \\\n",
              "count    43431.000000         43431.000000  43338.000000  43338.000000   \n",
              "mean         0.351592             0.043241     12.982461     77.636255   \n",
              "std          0.477473             0.203402      0.085933      0.059391   \n",
              "min          0.000000             0.000000     12.776630     77.386930   \n",
              "25%          0.000000             0.000000     12.926450     77.593661   \n",
              "50%          0.000000             0.000000     12.968887     77.635750   \n",
              "75%          1.000000             0.000000     13.007750     77.688900   \n",
              "max          1.000000             1.000000     13.366072     77.786420   \n",
              "\n",
              "             to_lat       to_long  Car_Cancellation  \n",
              "count  34293.000000  34293.000000      43431.000000  \n",
              "mean      13.026648     77.640595          0.072114  \n",
              "std        0.113487      0.064045          0.258680  \n",
              "min       12.776630     77.386930          0.000000  \n",
              "25%       12.951850     77.582030          0.000000  \n",
              "50%       12.982750     77.645030          0.000000  \n",
              "75%       13.199560     77.706880          0.000000  \n",
              "max       13.366072     77.786420          1.000000  "
            ],
            "text/html": [
              "\n",
              "  <div id=\"df-2797d9e5-3cd8-4c94-bd49-51d0eb9633ac\" class=\"colab-df-container\">\n",
              "    <div>\n",
              "<style scoped>\n",
              "    .dataframe tbody tr th:only-of-type {\n",
              "        vertical-align: middle;\n",
              "    }\n",
              "\n",
              "    .dataframe tbody tr th {\n",
              "        vertical-align: top;\n",
              "    }\n",
              "\n",
              "    .dataframe thead th {\n",
              "        text-align: right;\n",
              "    }\n",
              "</style>\n",
              "<table border=\"1\" class=\"dataframe\">\n",
              "  <thead>\n",
              "    <tr style=\"text-align: right;\">\n",
              "      <th></th>\n",
              "      <th>id</th>\n",
              "      <th>user_id</th>\n",
              "      <th>vehicle_model_id</th>\n",
              "      <th>travel_type_id</th>\n",
              "      <th>package_id</th>\n",
              "      <th>from_area_id</th>\n",
              "      <th>to_area_id</th>\n",
              "      <th>from_city_id</th>\n",
              "      <th>to_city_id</th>\n",
              "      <th>online_booking</th>\n",
              "      <th>mobile_site_booking</th>\n",
              "      <th>from_lat</th>\n",
              "      <th>from_long</th>\n",
              "      <th>to_lat</th>\n",
              "      <th>to_long</th>\n",
              "      <th>Car_Cancellation</th>\n",
              "    </tr>\n",
              "  </thead>\n",
              "  <tbody>\n",
              "    <tr>\n",
              "      <th>count</th>\n",
              "      <td>43431.000000</td>\n",
              "      <td>43431.000000</td>\n",
              "      <td>43431.00000</td>\n",
              "      <td>43431.000000</td>\n",
              "      <td>7550.000000</td>\n",
              "      <td>43343.000000</td>\n",
              "      <td>34293.000000</td>\n",
              "      <td>16345.000000</td>\n",
              "      <td>1588.000000</td>\n",
              "      <td>43431.000000</td>\n",
              "      <td>43431.000000</td>\n",
              "      <td>43338.000000</td>\n",
              "      <td>43338.000000</td>\n",
              "      <td>34293.000000</td>\n",
              "      <td>34293.000000</td>\n",
              "      <td>43431.000000</td>\n",
              "    </tr>\n",
              "    <tr>\n",
              "      <th>mean</th>\n",
              "      <td>159206.473556</td>\n",
              "      <td>30739.198153</td>\n",
              "      <td>25.71723</td>\n",
              "      <td>2.137252</td>\n",
              "      <td>2.030066</td>\n",
              "      <td>714.544494</td>\n",
              "      <td>669.490917</td>\n",
              "      <td>14.915081</td>\n",
              "      <td>68.537783</td>\n",
              "      <td>0.351592</td>\n",
              "      <td>0.043241</td>\n",
              "      <td>12.982461</td>\n",
              "      <td>77.636255</td>\n",
              "      <td>13.026648</td>\n",
              "      <td>77.640595</td>\n",
              "      <td>0.072114</td>\n",
              "    </tr>\n",
              "    <tr>\n",
              "      <th>std</th>\n",
              "      <td>15442.386279</td>\n",
              "      <td>10996.476709</td>\n",
              "      <td>26.79825</td>\n",
              "      <td>0.437712</td>\n",
              "      <td>1.461756</td>\n",
              "      <td>419.883553</td>\n",
              "      <td>400.638225</td>\n",
              "      <td>1.165306</td>\n",
              "      <td>49.880732</td>\n",
              "      <td>0.477473</td>\n",
              "      <td>0.203402</td>\n",
              "      <td>0.085933</td>\n",
              "      <td>0.059391</td>\n",
              "      <td>0.113487</td>\n",
              "      <td>0.064045</td>\n",
              "      <td>0.258680</td>\n",
              "    </tr>\n",
              "    <tr>\n",
              "      <th>min</th>\n",
              "      <td>132512.000000</td>\n",
              "      <td>16.000000</td>\n",
              "      <td>1.00000</td>\n",
              "      <td>1.000000</td>\n",
              "      <td>1.000000</td>\n",
              "      <td>2.000000</td>\n",
              "      <td>2.000000</td>\n",
              "      <td>1.000000</td>\n",
              "      <td>4.000000</td>\n",
              "      <td>0.000000</td>\n",
              "      <td>0.000000</td>\n",
              "      <td>12.776630</td>\n",
              "      <td>77.386930</td>\n",
              "      <td>12.776630</td>\n",
              "      <td>77.386930</td>\n",
              "      <td>0.000000</td>\n",
              "    </tr>\n",
              "    <tr>\n",
              "      <th>25%</th>\n",
              "      <td>145778.000000</td>\n",
              "      <td>24614.000000</td>\n",
              "      <td>12.00000</td>\n",
              "      <td>2.000000</td>\n",
              "      <td>1.000000</td>\n",
              "      <td>393.000000</td>\n",
              "      <td>393.000000</td>\n",
              "      <td>15.000000</td>\n",
              "      <td>32.000000</td>\n",
              "      <td>0.000000</td>\n",
              "      <td>0.000000</td>\n",
              "      <td>12.926450</td>\n",
              "      <td>77.593661</td>\n",
              "      <td>12.951850</td>\n",
              "      <td>77.582030</td>\n",
              "      <td>0.000000</td>\n",
              "    </tr>\n",
              "    <tr>\n",
              "      <th>50%</th>\n",
              "      <td>159248.000000</td>\n",
              "      <td>31627.000000</td>\n",
              "      <td>12.00000</td>\n",
              "      <td>2.000000</td>\n",
              "      <td>2.000000</td>\n",
              "      <td>590.000000</td>\n",
              "      <td>541.000000</td>\n",
              "      <td>15.000000</td>\n",
              "      <td>49.000000</td>\n",
              "      <td>0.000000</td>\n",
              "      <td>0.000000</td>\n",
              "      <td>12.968887</td>\n",
              "      <td>77.635750</td>\n",
              "      <td>12.982750</td>\n",
              "      <td>77.645030</td>\n",
              "      <td>0.000000</td>\n",
              "    </tr>\n",
              "    <tr>\n",
              "      <th>75%</th>\n",
              "      <td>172578.500000</td>\n",
              "      <td>39167.000000</td>\n",
              "      <td>24.00000</td>\n",
              "      <td>2.000000</td>\n",
              "      <td>2.000000</td>\n",
              "      <td>1089.000000</td>\n",
              "      <td>1054.000000</td>\n",
              "      <td>15.000000</td>\n",
              "      <td>108.000000</td>\n",
              "      <td>1.000000</td>\n",
              "      <td>0.000000</td>\n",
              "      <td>13.007750</td>\n",
              "      <td>77.688900</td>\n",
              "      <td>13.199560</td>\n",
              "      <td>77.706880</td>\n",
              "      <td>0.000000</td>\n",
              "    </tr>\n",
              "    <tr>\n",
              "      <th>max</th>\n",
              "      <td>185941.000000</td>\n",
              "      <td>48730.000000</td>\n",
              "      <td>91.00000</td>\n",
              "      <td>3.000000</td>\n",
              "      <td>7.000000</td>\n",
              "      <td>1403.000000</td>\n",
              "      <td>1403.000000</td>\n",
              "      <td>31.000000</td>\n",
              "      <td>203.000000</td>\n",
              "      <td>1.000000</td>\n",
              "      <td>1.000000</td>\n",
              "      <td>13.366072</td>\n",
              "      <td>77.786420</td>\n",
              "      <td>13.366072</td>\n",
              "      <td>77.786420</td>\n",
              "      <td>1.000000</td>\n",
              "    </tr>\n",
              "  </tbody>\n",
              "</table>\n",
              "</div>\n",
              "    <div class=\"colab-df-buttons\">\n",
              "      \n",
              "  <div class=\"colab-df-container\">\n",
              "    <button class=\"colab-df-convert\" onclick=\"convertToInteractive('df-2797d9e5-3cd8-4c94-bd49-51d0eb9633ac')\"\n",
              "            title=\"Convert this dataframe to an interactive table.\"\n",
              "            style=\"display:none;\">\n",
              "      \n",
              "  <svg xmlns=\"http://www.w3.org/2000/svg\" height=\"24px\" viewBox=\"0 -960 960 960\">\n",
              "    <path d=\"M120-120v-720h720v720H120Zm60-500h600v-160H180v160Zm220 220h160v-160H400v160Zm0 220h160v-160H400v160ZM180-400h160v-160H180v160Zm440 0h160v-160H620v160ZM180-180h160v-160H180v160Zm440 0h160v-160H620v160Z\"/>\n",
              "  </svg>\n",
              "    </button>\n",
              "    \n",
              "  <style>\n",
              "    .colab-df-container {\n",
              "      display:flex;\n",
              "      gap: 12px;\n",
              "    }\n",
              "\n",
              "    .colab-df-convert {\n",
              "      background-color: #E8F0FE;\n",
              "      border: none;\n",
              "      border-radius: 50%;\n",
              "      cursor: pointer;\n",
              "      display: none;\n",
              "      fill: #1967D2;\n",
              "      height: 32px;\n",
              "      padding: 0 0 0 0;\n",
              "      width: 32px;\n",
              "    }\n",
              "\n",
              "    .colab-df-convert:hover {\n",
              "      background-color: #E2EBFA;\n",
              "      box-shadow: 0px 1px 2px rgba(60, 64, 67, 0.3), 0px 1px 3px 1px rgba(60, 64, 67, 0.15);\n",
              "      fill: #174EA6;\n",
              "    }\n",
              "\n",
              "    .colab-df-buttons div {\n",
              "      margin-bottom: 4px;\n",
              "    }\n",
              "\n",
              "    [theme=dark] .colab-df-convert {\n",
              "      background-color: #3B4455;\n",
              "      fill: #D2E3FC;\n",
              "    }\n",
              "\n",
              "    [theme=dark] .colab-df-convert:hover {\n",
              "      background-color: #434B5C;\n",
              "      box-shadow: 0px 1px 3px 1px rgba(0, 0, 0, 0.15);\n",
              "      filter: drop-shadow(0px 1px 2px rgba(0, 0, 0, 0.3));\n",
              "      fill: #FFFFFF;\n",
              "    }\n",
              "  </style>\n",
              "\n",
              "    <script>\n",
              "      const buttonEl =\n",
              "        document.querySelector('#df-2797d9e5-3cd8-4c94-bd49-51d0eb9633ac button.colab-df-convert');\n",
              "      buttonEl.style.display =\n",
              "        google.colab.kernel.accessAllowed ? 'block' : 'none';\n",
              "\n",
              "      async function convertToInteractive(key) {\n",
              "        const element = document.querySelector('#df-2797d9e5-3cd8-4c94-bd49-51d0eb9633ac');\n",
              "        const dataTable =\n",
              "          await google.colab.kernel.invokeFunction('convertToInteractive',\n",
              "                                                    [key], {});\n",
              "        if (!dataTable) return;\n",
              "\n",
              "        const docLinkHtml = 'Like what you see? Visit the ' +\n",
              "          '<a target=\"_blank\" href=https://colab.research.google.com/notebooks/data_table.ipynb>data table notebook</a>'\n",
              "          + ' to learn more about interactive tables.';\n",
              "        element.innerHTML = '';\n",
              "        dataTable['output_type'] = 'display_data';\n",
              "        await google.colab.output.renderOutput(dataTable, element);\n",
              "        const docLink = document.createElement('div');\n",
              "        docLink.innerHTML = docLinkHtml;\n",
              "        element.appendChild(docLink);\n",
              "      }\n",
              "    </script>\n",
              "  </div>\n",
              "  \n",
              "    </div>\n",
              "  </div>\n",
              "  "
            ],
            "application/vnd.google.colaboratory.intrinsic+json": {
              "type": "dataframe",
              "summary": "{\n  \"name\": \"df\",\n  \"rows\": 8,\n  \"fields\": [\n    {\n      \"column\": \"id\",\n      \"properties\": {\n        \"dtype\": \"number\",\n        \"std\": 62609.985825692005,\n        \"min\": 15442.386279313378,\n        \"max\": 185941.0,\n        \"num_unique_values\": 8,\n        \"samples\": [\n          159206.4735557551,\n          159248.0,\n          43431.0\n        ],\n        \"semantic_type\": \"\",\n        \"description\": \"\"\n      }\n    },\n    {\n      \"column\": \"user_id\",\n      \"properties\": {\n        \"dtype\": \"number\",\n        \"std\": 16446.272891743214,\n        \"min\": 16.0,\n        \"max\": 48730.0,\n        \"num_unique_values\": 8,\n        \"samples\": [\n          30739.19815339274,\n          31627.0,\n          43431.0\n        ],\n        \"semantic_type\": \"\",\n        \"description\": \"\"\n      }\n    },\n    {\n      \"column\": \"vehicle_model_id\",\n      \"properties\": {\n        \"dtype\": \"number\",\n        \"std\": 15345.478155137773,\n        \"min\": 1.0,\n        \"max\": 43431.0,\n        \"num_unique_values\": 7,\n        \"samples\": [\n          43431.0,\n          25.717229628606294,\n          24.0\n        ],\n        \"semantic_type\": \"\",\n        \"description\": \"\"\n      }\n    },\n    {\n      \"column\": \"travel_type_id\",\n      \"properties\": {\n        \"dtype\": \"number\",\n        \"std\": 15354.542194638152,\n        \"min\": 0.43771221100434093,\n        \"max\": 43431.0,\n        \"num_unique_values\": 6,\n        \"samples\": [\n          43431.0,\n          2.1372521931339366,\n          3.0\n        ],\n        \"semantic_type\": \"\",\n        \"description\": \"\"\n      }\n    },\n    {\n      \"column\": \"package_id\",\n      \"properties\": {\n        \"dtype\": \"number\",\n        \"std\": 2668.49584293414,\n        \"min\": 1.0,\n        \"max\": 7550.0,\n        \"num_unique_values\": 6,\n        \"samples\": [\n          7550.0,\n          2.030066225165563,\n          7.0\n        ],\n        \"semantic_type\": \"\",\n        \"description\": \"\"\n      }\n    },\n    {\n      \"column\": \"from_area_id\",\n      \"properties\": {\n        \"dtype\": \"number\",\n        \"std\": 15097.33189233249,\n        \"min\": 2.0,\n        \"max\": 43343.0,\n        \"num_unique_values\": 8,\n        \"samples\": [\n          714.544493920587,\n          590.0,\n          43343.0\n        ],\n        \"semantic_type\": \"\",\n        \"description\": \"\"\n      }\n    },\n    {\n      \"column\": \"to_area_id\",\n      \"properties\": {\n        \"dtype\": \"number\",\n        \"std\": 11906.722853798288,\n        \"min\": 2.0,\n        \"max\": 34293.0,\n        \"num_unique_values\": 8,\n        \"samples\": [\n          669.4909165135742,\n          541.0,\n          34293.0\n        ],\n        \"semantic_type\": \"\",\n        \"description\": \"\"\n      }\n    },\n    {\n      \"column\": \"from_city_id\",\n      \"properties\": {\n        \"dtype\": \"number\",\n        \"std\": 5774.136607901097,\n        \"min\": 1.0,\n        \"max\": 16345.0,\n        \"num_unique_values\": 6,\n        \"samples\": [\n          16345.0,\n          14.915081064545733,\n          31.0\n        ],\n        \"semantic_type\": \"\",\n        \"description\": \"\"\n      }\n    },\n    {\n      \"column\": \"to_city_id\",\n      \"properties\": {\n        \"dtype\": \"number\",\n        \"std\": 538.8775455224771,\n        \"min\": 4.0,\n        \"max\": 1588.0,\n        \"num_unique_values\": 8,\n        \"samples\": [\n          68.53778337531486,\n          49.0,\n          1588.0\n        ],\n        \"semantic_type\": \"\",\n        \"description\": \"\"\n      }\n    },\n    {\n      \"column\": \"online_booking\",\n      \"properties\": {\n        \"dtype\": \"number\",\n        \"std\": 15355.034423112491,\n        \"min\": 0.0,\n        \"max\": 43431.0,\n        \"num_unique_values\": 5,\n        \"samples\": [\n          0.35159218070042136,\n          1.0,\n          0.47747289810532456\n        ],\n        \"semantic_type\": \"\",\n        \"description\": \"\"\n      }\n    },\n    {\n      \"column\": \"mobile_site_booking\",\n      \"properties\": {\n        \"dtype\": \"number\",\n        \"std\": 15355.114345721675,\n        \"min\": 0.0,\n        \"max\": 43431.0,\n        \"num_unique_values\": 5,\n        \"samples\": [\n          0.04324100297022864,\n          1.0,\n          0.20340150252095096\n        ],\n        \"semantic_type\": \"\",\n        \"description\": \"\"\n      }\n    },\n    {\n      \"column\": \"from_lat\",\n      \"properties\": {\n        \"dtype\": \"number\",\n        \"std\": 15318.352147459398,\n        \"min\": 0.0859325269533176,\n        \"max\": 43338.0,\n        \"num_unique_values\": 8,\n        \"samples\": [\n          12.982460883404864,\n          12.968887,\n          43338.0\n        ],\n        \"semantic_type\": \"\",\n        \"description\": \"\"\n      }\n    },\n    {\n      \"column\": \"from_long\",\n      \"properties\": {\n        \"dtype\": \"number\",\n        \"std\": 15298.79510524458,\n        \"min\": 0.05939097610639364,\n        \"max\": 43338.0,\n        \"num_unique_values\": 8,\n        \"samples\": [\n          77.6362546886566,\n          77.63575,\n          43338.0\n        ],\n        \"semantic_type\": \"\",\n        \"description\": \"\"\n      }\n    },\n    {\n      \"column\": \"to_lat\",\n      \"properties\": {\n        \"dtype\": \"number\",\n        \"std\": 12120.446613798917,\n        \"min\": 0.113487429423058,\n        \"max\": 34293.0,\n        \"num_unique_values\": 8,\n        \"samples\": [\n          13.026648484122125,\n          12.98275,\n          34293.0\n        ],\n        \"semantic_type\": \"\",\n        \"description\": \"\"\n      }\n    },\n    {\n      \"column\": \"to_long\",\n      \"properties\": {\n        \"dtype\": \"number\",\n        \"std\": 12100.909804974446,\n        \"min\": 0.06404529897946568,\n        \"max\": 34293.0,\n        \"num_unique_values\": 8,\n        \"samples\": [\n          77.64059544565946,\n          77.64503,\n          34293.0\n        ],\n        \"semantic_type\": \"\",\n        \"description\": \"\"\n      }\n    },\n    {\n      \"column\": \"Car_Cancellation\",\n      \"properties\": {\n        \"dtype\": \"number\",\n        \"std\": 15355.110095390002,\n        \"min\": 0.0,\n        \"max\": 43431.0,\n        \"num_unique_values\": 5,\n        \"samples\": [\n          0.07211438834012572,\n          1.0,\n          0.25868019650610163\n        ],\n        \"semantic_type\": \"\",\n        \"description\": \"\"\n      }\n    }\n  ]\n}"
            }
          },
          "metadata": {},
          "execution_count": 224
        }
      ]
    },
    {
      "cell_type": "code",
      "source": [
        "# Checks for each missing values in dataset\n",
        "df.isnull().sum()/len(df)*100"
      ],
      "metadata": {
        "colab": {
          "base_uri": "https://localhost:8080/",
          "height": 648
        },
        "collapsed": true,
        "id": "-xNlMNbhOb5Z",
        "outputId": "f58aa151-4247-4653-a32b-6b747fc54467"
      },
      "execution_count": 225,
      "outputs": [
        {
          "output_type": "execute_result",
          "data": {
            "text/plain": [
              "id                      0.000000\n",
              "user_id                 0.000000\n",
              "vehicle_model_id        0.000000\n",
              "travel_type_id          0.000000\n",
              "package_id             82.616104\n",
              "from_area_id            0.202620\n",
              "to_area_id             21.040271\n",
              "from_city_id           62.365591\n",
              "to_city_id             96.343626\n",
              "from_date               0.000000\n",
              "online_booking          0.000000\n",
              "mobile_site_booking     0.000000\n",
              "booking_created         0.000000\n",
              "from_lat                0.214133\n",
              "from_long               0.214133\n",
              "to_lat                 21.040271\n",
              "to_long                21.040271\n",
              "Car_Cancellation        0.000000\n",
              "dtype: float64"
            ],
            "text/html": [
              "<div>\n",
              "<style scoped>\n",
              "    .dataframe tbody tr th:only-of-type {\n",
              "        vertical-align: middle;\n",
              "    }\n",
              "\n",
              "    .dataframe tbody tr th {\n",
              "        vertical-align: top;\n",
              "    }\n",
              "\n",
              "    .dataframe thead th {\n",
              "        text-align: right;\n",
              "    }\n",
              "</style>\n",
              "<table border=\"1\" class=\"dataframe\">\n",
              "  <thead>\n",
              "    <tr style=\"text-align: right;\">\n",
              "      <th></th>\n",
              "      <th>0</th>\n",
              "    </tr>\n",
              "  </thead>\n",
              "  <tbody>\n",
              "    <tr>\n",
              "      <th>id</th>\n",
              "      <td>0.000000</td>\n",
              "    </tr>\n",
              "    <tr>\n",
              "      <th>user_id</th>\n",
              "      <td>0.000000</td>\n",
              "    </tr>\n",
              "    <tr>\n",
              "      <th>vehicle_model_id</th>\n",
              "      <td>0.000000</td>\n",
              "    </tr>\n",
              "    <tr>\n",
              "      <th>travel_type_id</th>\n",
              "      <td>0.000000</td>\n",
              "    </tr>\n",
              "    <tr>\n",
              "      <th>package_id</th>\n",
              "      <td>82.616104</td>\n",
              "    </tr>\n",
              "    <tr>\n",
              "      <th>from_area_id</th>\n",
              "      <td>0.202620</td>\n",
              "    </tr>\n",
              "    <tr>\n",
              "      <th>to_area_id</th>\n",
              "      <td>21.040271</td>\n",
              "    </tr>\n",
              "    <tr>\n",
              "      <th>from_city_id</th>\n",
              "      <td>62.365591</td>\n",
              "    </tr>\n",
              "    <tr>\n",
              "      <th>to_city_id</th>\n",
              "      <td>96.343626</td>\n",
              "    </tr>\n",
              "    <tr>\n",
              "      <th>from_date</th>\n",
              "      <td>0.000000</td>\n",
              "    </tr>\n",
              "    <tr>\n",
              "      <th>online_booking</th>\n",
              "      <td>0.000000</td>\n",
              "    </tr>\n",
              "    <tr>\n",
              "      <th>mobile_site_booking</th>\n",
              "      <td>0.000000</td>\n",
              "    </tr>\n",
              "    <tr>\n",
              "      <th>booking_created</th>\n",
              "      <td>0.000000</td>\n",
              "    </tr>\n",
              "    <tr>\n",
              "      <th>from_lat</th>\n",
              "      <td>0.214133</td>\n",
              "    </tr>\n",
              "    <tr>\n",
              "      <th>from_long</th>\n",
              "      <td>0.214133</td>\n",
              "    </tr>\n",
              "    <tr>\n",
              "      <th>to_lat</th>\n",
              "      <td>21.040271</td>\n",
              "    </tr>\n",
              "    <tr>\n",
              "      <th>to_long</th>\n",
              "      <td>21.040271</td>\n",
              "    </tr>\n",
              "    <tr>\n",
              "      <th>Car_Cancellation</th>\n",
              "      <td>0.000000</td>\n",
              "    </tr>\n",
              "  </tbody>\n",
              "</table>\n",
              "</div><br><label><b>dtype:</b> float64</label>"
            ]
          },
          "metadata": {},
          "execution_count": 225
        }
      ]
    },
    {
      "cell_type": "markdown",
      "source": [
        "# Data Cleaning:\n"
      ],
      "metadata": {
        "id": "nL18XETDU3PO"
      }
    },
    {
      "cell_type": "code",
      "source": [
        "df = df.drop(['id','user_id','package_id','to_area_id','from_city_id','to_city_id'],axis=1)"
      ],
      "metadata": {
        "id": "GQ_bu84kUlr8"
      },
      "execution_count": 226,
      "outputs": []
    },
    {
      "cell_type": "code",
      "source": [
        "df.shape"
      ],
      "metadata": {
        "colab": {
          "base_uri": "https://localhost:8080/"
        },
        "id": "aDbrPnQPVk6h",
        "outputId": "32f93e7e-3f85-49aa-ded5-d2a62b341ec9"
      },
      "execution_count": 227,
      "outputs": [
        {
          "output_type": "execute_result",
          "data": {
            "text/plain": [
              "(43431, 12)"
            ]
          },
          "metadata": {},
          "execution_count": 227
        }
      ]
    },
    {
      "cell_type": "code",
      "source": [
        "# Convert to datetime\n",
        "df['from_date'] = pd.to_datetime(df['from_date'], errors='coerce')\n",
        "df['booking_created'] = pd.to_datetime(df['booking_created'], errors='coerce')\n",
        "\n",
        "# Creating a new feature: time gap between booking and trip (in hours)\n",
        "df['booking_lead_time'] = (df['from_date'] - df['booking_created']).dt.total_seconds() / 3600\n"
      ],
      "metadata": {
        "id": "NRLFhpurVmIH"
      },
      "execution_count": 228,
      "outputs": []
    },
    {
      "cell_type": "code",
      "source": [
        "# booking_lead_time is created, the original date columns are no longer needed\n",
        "df = df.drop(['from_date', 'booking_created'], axis=1)"
      ],
      "metadata": {
        "collapsed": true,
        "id": "59_UQ3dYWTN7"
      },
      "execution_count": 229,
      "outputs": []
    },
    {
      "cell_type": "code",
      "source": [
        "\n",
        "# Handle Missing Values in the Dataset\n",
        "\n",
        "\n",
        "# 1. Fill 'from_area_id' with the most frequent area (mode)\n",
        "df['from_area_id'] = df['from_area_id'].fillna(df['from_area_id'].mode()[0])\n",
        "\n",
        "# 2. Fill missing 'to_lat' and 'to_long' using median of each 'from_area_id' group\n",
        "df['to_lat'] = df['to_lat'].fillna(df.groupby('from_area_id')['to_lat'].transform('median'))\n",
        "df['to_long'] = df['to_long'].fillna(df.groupby('from_area_id')['to_long'].transform('median'))\n",
        "\n",
        "# 3. Fill any remaining NaNs with overall column median\n",
        "df['to_lat'] = df['to_lat'].fillna(df['to_lat'].median())\n",
        "df['to_long'] = df['to_long'].fillna(df['to_long'].median())\n",
        "\n",
        "# 4. Fill missing values in 'booking_lead_time' with the column median\n",
        "df['booking_lead_time'] = df['booking_lead_time'].fillna(df['booking_lead_time'].median())\n",
        "\n",
        "# 4. Final checking\n",
        "print(\"-> Total remaining missing values:\", df.isnull().sum().sum())\n"
      ],
      "metadata": {
        "colab": {
          "base_uri": "https://localhost:8080/"
        },
        "id": "FjKBVr8pWtac",
        "outputId": "b98dde3d-0975-476b-fd2f-6f57d8f2b181"
      },
      "execution_count": 230,
      "outputs": [
        {
          "output_type": "stream",
          "name": "stdout",
          "text": [
            "-> Total remaining missing values: 186\n"
          ]
        }
      ]
    },
    {
      "cell_type": "code",
      "source": [
        "df.isnull().sum()/len(df)*100"
      ],
      "metadata": {
        "colab": {
          "base_uri": "https://localhost:8080/",
          "height": 429
        },
        "id": "0_SePDFkWtX8",
        "outputId": "a02032ef-7bd9-4f47-c458-9bff580c9352"
      },
      "execution_count": 231,
      "outputs": [
        {
          "output_type": "execute_result",
          "data": {
            "text/plain": [
              "vehicle_model_id       0.000000\n",
              "travel_type_id         0.000000\n",
              "from_area_id           0.000000\n",
              "online_booking         0.000000\n",
              "mobile_site_booking    0.000000\n",
              "from_lat               0.214133\n",
              "from_long              0.214133\n",
              "to_lat                 0.000000\n",
              "to_long                0.000000\n",
              "Car_Cancellation       0.000000\n",
              "booking_lead_time      0.000000\n",
              "dtype: float64"
            ],
            "text/html": [
              "<div>\n",
              "<style scoped>\n",
              "    .dataframe tbody tr th:only-of-type {\n",
              "        vertical-align: middle;\n",
              "    }\n",
              "\n",
              "    .dataframe tbody tr th {\n",
              "        vertical-align: top;\n",
              "    }\n",
              "\n",
              "    .dataframe thead th {\n",
              "        text-align: right;\n",
              "    }\n",
              "</style>\n",
              "<table border=\"1\" class=\"dataframe\">\n",
              "  <thead>\n",
              "    <tr style=\"text-align: right;\">\n",
              "      <th></th>\n",
              "      <th>0</th>\n",
              "    </tr>\n",
              "  </thead>\n",
              "  <tbody>\n",
              "    <tr>\n",
              "      <th>vehicle_model_id</th>\n",
              "      <td>0.000000</td>\n",
              "    </tr>\n",
              "    <tr>\n",
              "      <th>travel_type_id</th>\n",
              "      <td>0.000000</td>\n",
              "    </tr>\n",
              "    <tr>\n",
              "      <th>from_area_id</th>\n",
              "      <td>0.000000</td>\n",
              "    </tr>\n",
              "    <tr>\n",
              "      <th>online_booking</th>\n",
              "      <td>0.000000</td>\n",
              "    </tr>\n",
              "    <tr>\n",
              "      <th>mobile_site_booking</th>\n",
              "      <td>0.000000</td>\n",
              "    </tr>\n",
              "    <tr>\n",
              "      <th>from_lat</th>\n",
              "      <td>0.214133</td>\n",
              "    </tr>\n",
              "    <tr>\n",
              "      <th>from_long</th>\n",
              "      <td>0.214133</td>\n",
              "    </tr>\n",
              "    <tr>\n",
              "      <th>to_lat</th>\n",
              "      <td>0.000000</td>\n",
              "    </tr>\n",
              "    <tr>\n",
              "      <th>to_long</th>\n",
              "      <td>0.000000</td>\n",
              "    </tr>\n",
              "    <tr>\n",
              "      <th>Car_Cancellation</th>\n",
              "      <td>0.000000</td>\n",
              "    </tr>\n",
              "    <tr>\n",
              "      <th>booking_lead_time</th>\n",
              "      <td>0.000000</td>\n",
              "    </tr>\n",
              "  </tbody>\n",
              "</table>\n",
              "</div><br><label><b>dtype:</b> float64</label>"
            ]
          },
          "metadata": {},
          "execution_count": 231
        }
      ]
    },
    {
      "cell_type": "code",
      "metadata": {
        "colab": {
          "base_uri": "https://localhost:8080/"
        },
        "id": "cda4c2dd",
        "outputId": "81322ac7-4960-4882-a94d-676ac46592fb"
      },
      "source": [
        "# Fill missing values in 'from_lat' and 'from_long' with the column median\n",
        "df['from_lat'] = df['from_lat'].fillna(df['from_lat'].median())\n",
        "df['from_long'] = df['from_long'].fillna(df['from_long'].median())\n",
        "\n",
        "# Final check for missing values\n",
        "print(\"-> Total remaining missing values after handling 'from_lat' and 'from_long':\", df.isnull().sum().sum())"
      ],
      "execution_count": 232,
      "outputs": [
        {
          "output_type": "stream",
          "name": "stdout",
          "text": [
            "-> Total remaining missing values after handling 'from_lat' and 'from_long': 0\n"
          ]
        }
      ]
    },
    {
      "cell_type": "code",
      "source": [
        "df.info()"
      ],
      "metadata": {
        "colab": {
          "base_uri": "https://localhost:8080/"
        },
        "id": "4bks5gsaewXH",
        "outputId": "b0094c26-208d-4af0-e666-5a76a4cd133b"
      },
      "execution_count": 233,
      "outputs": [
        {
          "output_type": "stream",
          "name": "stdout",
          "text": [
            "<class 'pandas.core.frame.DataFrame'>\n",
            "RangeIndex: 43431 entries, 0 to 43430\n",
            "Data columns (total 11 columns):\n",
            " #   Column               Non-Null Count  Dtype  \n",
            "---  ------               --------------  -----  \n",
            " 0   vehicle_model_id     43431 non-null  int64  \n",
            " 1   travel_type_id       43431 non-null  int64  \n",
            " 2   from_area_id         43431 non-null  float64\n",
            " 3   online_booking       43431 non-null  int64  \n",
            " 4   mobile_site_booking  43431 non-null  int64  \n",
            " 5   from_lat             43431 non-null  float64\n",
            " 6   from_long            43431 non-null  float64\n",
            " 7   to_lat               43431 non-null  float64\n",
            " 8   to_long              43431 non-null  float64\n",
            " 9   Car_Cancellation     43431 non-null  int64  \n",
            " 10  booking_lead_time    43431 non-null  float64\n",
            "dtypes: float64(6), int64(5)\n",
            "memory usage: 3.6 MB\n"
          ]
        }
      ]
    },
    {
      "cell_type": "markdown",
      "source": [
        "# Encoding :\n",
        "* **We will use one hot encoding because categorical variable is nominal (no intrinsic order)**"
      ],
      "metadata": {
        "id": "ZcZwEdGLjUHo"
      }
    },
    {
      "cell_type": "code",
      "source": [
        "# Show categorical columns\n",
        "cat_cols = df.select_dtypes(include=['object']).columns\n",
        "print(\"Categorical columns to encode:\", cat_cols.tolist())\n"
      ],
      "metadata": {
        "colab": {
          "base_uri": "https://localhost:8080/"
        },
        "id": "UZWRq8-2WtSu",
        "outputId": "4c1790f6-d83d-4583-8ed0-3ddc33eafc8c"
      },
      "execution_count": 234,
      "outputs": [
        {
          "output_type": "stream",
          "name": "stdout",
          "text": [
            "Categorical columns to encode: []\n"
          ]
        }
      ]
    },
    {
      "cell_type": "code",
      "source": [
        "# numerically stored categorical columns\n",
        "for col in df.columns:\n",
        "    if df[col].nunique() < 15 and df[col].dtype in ['int64', 'float64']:\n",
        "        print(f\"{col}: {df[col].unique()}\")\n"
      ],
      "metadata": {
        "colab": {
          "base_uri": "https://localhost:8080/"
        },
        "id": "luhVHAmAkMLG",
        "outputId": "1570b9f5-46d4-440a-b997-b4dede55096b"
      },
      "execution_count": 235,
      "outputs": [
        {
          "output_type": "stream",
          "name": "stdout",
          "text": [
            "travel_type_id: [2 1 3]\n",
            "online_booking: [0 1]\n",
            "mobile_site_booking: [0 1]\n",
            "Car_Cancellation: [0 1]\n"
          ]
        }
      ]
    },
    {
      "cell_type": "markdown",
      "source": [
        "We will change the data type for numerically stored categorical columns and then perform encoding\n",
        "* we will not perform encoding on Car_Cancellation because it is our target variable"
      ],
      "metadata": {
        "id": "jep5DWuRlr60"
      }
    },
    {
      "cell_type": "code",
      "source": [
        "df['travel_type_id'] = df['travel_type_id'].astype('category')\n",
        "df['online_booking'] = df['online_booking'].astype('category')\n",
        "df['mobile_site_booking'] = df['mobile_site_booking'].astype('category')"
      ],
      "metadata": {
        "id": "r9XvgCn0ljey"
      },
      "execution_count": 236,
      "outputs": []
    },
    {
      "cell_type": "code",
      "source": [
        "df_encoded = pd.get_dummies(df, columns=['travel_type_id', 'online_booking', 'mobile_site_booking'], drop_first=True)\n"
      ],
      "metadata": {
        "id": "Hr72Stl4WtP_"
      },
      "execution_count": 237,
      "outputs": []
    },
    {
      "cell_type": "markdown",
      "source": [
        "# Outlier Detection (using boxplot):"
      ],
      "metadata": {
        "id": "QxRvSOjf2vzb"
      }
    },
    {
      "cell_type": "code",
      "source": [
        "\n",
        "plt.figure(figsize=(12, 10))\n",
        "# Plot boxplots one by one\n",
        "\n",
        "# booking_lead_time\n",
        "plt.subplot(3, 2, 1)\n",
        "sns.boxplot(x=df_encoded['booking_lead_time'])\n",
        "plt.title(\"Boxplot: booking_lead_time\")\n",
        "\n",
        "# from_lat\n",
        "plt.subplot(3, 2, 2)\n",
        "sns.boxplot(x=df_encoded['from_lat'])\n",
        "plt.title(\"Boxplot: from_lat\")\n",
        "\n",
        "# from_long\n",
        "plt.subplot(3, 2, 3)\n",
        "sns.boxplot(x=df_encoded['from_long'])\n",
        "plt.title(\"Boxplot: from_long\")\n",
        "\n",
        "# to_lat\n",
        "plt.subplot(3, 2, 4)\n",
        "sns.boxplot(x=df_encoded['to_lat'])\n",
        "plt.title(\"Boxplot: to_lat\")\n",
        "\n",
        "# to_long\n",
        "plt.subplot(3, 2, 5)\n",
        "sns.boxplot(x=df_encoded['to_long'])\n",
        "plt.title(\"Boxplot: to_long\")\n",
        "\n",
        "plt.tight_layout()\n",
        "plt.show()\n"
      ],
      "metadata": {
        "colab": {
          "base_uri": "https://localhost:8080/",
          "height": 1000
        },
        "id": "4Lto2Nv13AHb",
        "outputId": "edbf925a-3630-4af7-a4d3-1f4dfefa0732"
      },
      "execution_count": 238,
      "outputs": [
        {
          "output_type": "display_data",
          "data": {
            "text/plain": [
              "<Figure size 1200x1000 with 5 Axes>"
            ],
            "image/png": "[encoded data removed]"
          },
          "metadata": {}
        }
      ]
    },
    {
      "cell_type": "code",
      "source": [
        "# remove outliers using IQR:\n",
        "\n",
        "# Define the columns to clean\n",
        "columns_to_clean = ['booking_lead_time', 'from_lat', 'from_long', 'to_lat', 'to_long']\n",
        "\n",
        "# Apply IQR method to each column\n",
        "for col in columns_to_clean:\n",
        "    Q1 = df_encoded[col].quantile(0.25)\n",
        "    Q3 = df_encoded[col].quantile(0.75)\n",
        "    IQR = Q3 - Q1\n",
        "    lower_bound = Q1 - 1.5 * IQR\n",
        "    upper_bound = Q3 + 1.5 * IQR\n",
        "    df_encoded = df_encoded[(df_encoded[col] >= lower_bound) & (df_encoded[col] <= upper_bound)]\n"
      ],
      "metadata": {
        "id": "wIEPYuep3ABD"
      },
      "execution_count": 239,
      "outputs": []
    },
    {
      "cell_type": "markdown",
      "source": [
        "# Scaling :"
      ],
      "metadata": {
        "id": "wxsuPCJYujJ4"
      }
    },
    {
      "cell_type": "code",
      "source": [
        "X = df_encoded.drop('Car_Cancellation', axis=1)  # Features\n",
        "y = df_encoded['Car_Cancellation']               # Target"
      ],
      "metadata": {
        "id": "vcSJSJHrumA7"
      },
      "execution_count": 240,
      "outputs": []
    },
    {
      "cell_type": "code",
      "source": [
        "# Split data into training and testing sets\n",
        "X_train, X_test, y_train, y_test = train_test_split(X, y, test_size=0.2, random_state=42, stratify=y)"
      ],
      "metadata": {
        "id": "1JP9iF5Pj4Zp"
      },
      "execution_count": 241,
      "outputs": []
    },
    {
      "cell_type": "code",
      "metadata": {
        "id": "3418981b"
      },
      "source": [
        "# Scale the features\n",
        "scaler = StandardScaler()\n",
        "X_train_scaled = scaler.fit_transform(X_train)\n",
        "X_test_scaled = scaler.transform(X_test)"
      ],
      "execution_count": 242,
      "outputs": []
    },
    {
      "cell_type": "code",
      "source": [
        "# To Balance data using SMOTE Technique\n",
        "from imblearn.over_sampling import SMOTE\n",
        "\n",
        "smote = SMOTE(random_state=42)\n",
        "# Apply to training data\n",
        "X_train_smote, y_train_smote = smote.fit_resample(X_train_scaled, y_train)\n",
        "\n",
        "print(\"After SMOTE:\")\n",
        "print(\"Class 0:\", sum(y_train_smote == 0))\n",
        "print(\"Class 1:\", sum(y_train_smote == 1))\n"
      ],
      "metadata": {
        "colab": {
          "base_uri": "https://localhost:8080/"
        },
        "id": "7Gbf8dwu90oP",
        "outputId": "a7e343fa-27f0-4a97-8762-cfd0eef2f15b"
      },
      "execution_count": 243,
      "outputs": [
        {
          "output_type": "stream",
          "name": "stdout",
          "text": [
            "After SMOTE:\n",
            "Class 0: 18455\n",
            "Class 1: 18455\n"
          ]
        }
      ]
    },
    {
      "cell_type": "markdown",
      "source": [
        "# Model Building:"
      ],
      "metadata": {
        "id": "6FhJQNwyAlaU"
      }
    },
    {
      "cell_type": "markdown",
      "source": [
        "# Logistic Regression"
      ],
      "metadata": {
        "id": "hY9XEELtA2JO"
      }
    },
    {
      "cell_type": "code",
      "source": [
        "# Train logistic regression on SMOTE-balanced data\n",
        "model = LogisticRegression(random_state=42)\n",
        "model.fit(X_train_smote, y_train_smote)\n",
        "\n",
        "# Predict on the scaled test data\n",
        "y_pred = model.predict(X_test_scaled)\n"
      ],
      "metadata": {
        "id": "sM25sSudz1Z-"
      },
      "execution_count": 244,
      "outputs": []
    },
    {
      "cell_type": "code",
      "source": [
        "# Probability scores (for ROC-AUC)\n",
        "y_proba = model.predict_proba(X_test_scaled)[:, 1]\n",
        "\n",
        "# Metrics\n",
        "print(\"Accuracy :\", accuracy_score(y_test, y_pred))\n",
        "print(\"Precision:\", precision_score(y_test, y_pred))\n",
        "print(\"Recall   :\", recall_score(y_test, y_pred))\n",
        "print(\"F1 Score :\", f1_score(y_test, y_pred))\n",
        "print(\"ROC AUC  :\", roc_auc_score(y_test, y_proba))\n"
      ],
      "metadata": {
        "colab": {
          "base_uri": "https://localhost:8080/"
        },
        "id": "bxVKnBg_0Qx8",
        "outputId": "9b3411fd-979f-42d6-93a4-54063f62ae13"
      },
      "execution_count": 245,
      "outputs": [
        {
          "output_type": "stream",
          "name": "stdout",
          "text": [
            "Accuracy : 0.7155466399197593\n",
            "Precision: 0.15627051871306633\n",
            "Recall   : 0.6415094339622641\n",
            "F1 Score : 0.25131995776135163\n",
            "ROC AUC  : 0.7495636157154424\n"
          ]
        }
      ]
    },
    {
      "cell_type": "code",
      "source": [
        "# Confusion Matrix :\n",
        "cm = confusion_matrix(y_test, y_pred)\n",
        "\n",
        "# Heatmap :\n",
        "plt.figure(figsize=(6, 4))\n",
        "sns.heatmap(cm, annot=True, fmt='d', cmap='Blues', xticklabels=[0,1], yticklabels=[0,1])\n",
        "plt.xlabel(\"Predicted Label\")\n",
        "plt.ylabel(\"True Label\")\n",
        "plt.title(\"Confusion Matrix\")\n",
        "plt.show()\n"
      ],
      "metadata": {
        "colab": {
          "base_uri": "https://localhost:8080/",
          "height": 419
        },
        "id": "7oplKN4L0QvL",
        "outputId": "8f9701d6-d3b9-4740-8bf1-3a53999c09f6"
      },
      "execution_count": 246,
      "outputs": [
        {
          "output_type": "display_data",
          "data": {
            "text/plain": [
              "<Figure size 600x400 with 2 Axes>"
            ],
            "image/png": "[encoded data removed]"
          },
          "metadata": {}
        }
      ]
    },
    {
      "cell_type": "code",
      "source": [
        "print(\"Classification Report:\\n\")\n",
        "print(classification_report(y_test, y_pred))"
      ],
      "metadata": {
        "colab": {
          "base_uri": "https://localhost:8080/"
        },
        "id": "kT85KQ8Y0Qsd",
        "outputId": "c243576d-13f3-428e-f786-d5e2436f508a"
      },
      "execution_count": 247,
      "outputs": [
        {
          "output_type": "stream",
          "name": "stdout",
          "text": [
            "Classification Report:\n",
            "\n",
            "              precision    recall  f1-score   support\n",
            "\n",
            "           0       0.96      0.72      0.82      4614\n",
            "           1       0.16      0.64      0.25       371\n",
            "\n",
            "    accuracy                           0.72      4985\n",
            "   macro avg       0.56      0.68      0.54      4985\n",
            "weighted avg       0.90      0.72      0.78      4985\n",
            "\n"
          ]
        }
      ]
    },
    {
      "cell_type": "code",
      "source": [
        "# Predictions on training and test sets\n",
        "y_train_pred_lr = model.predict(X_train_scaled)\n",
        "y_test_pred_lr = model.predict(X_test_scaled)\n",
        "\n",
        "# Accuracy scores\n",
        "train_acc_lr = accuracy_score(y_train, y_train_pred_lr)\n",
        "test_acc_lr = accuracy_score(y_test, y_test_pred_lr)\n",
        "\n",
        "# Print results\n",
        "print(\"Logistic Regression Accuracy Scores:\")\n",
        "print(\"Train Accuracy:\", round(train_acc_lr, 4))\n",
        "print(\"Test Accuracy :\", round(test_acc_lr, 4))\n"
      ],
      "metadata": {
        "colab": {
          "base_uri": "https://localhost:8080/"
        },
        "id": "TztBoaewGhYk",
        "outputId": "16742590-c41c-4e1f-abc5-b4701cdcb3b9"
      },
      "execution_count": 248,
      "outputs": [
        {
          "output_type": "stream",
          "name": "stdout",
          "text": [
            "Logistic Regression Accuracy Scores:\n",
            "Train Accuracy: 0.7174\n",
            "Test Accuracy : 0.7155\n"
          ]
        }
      ]
    },
    {
      "cell_type": "markdown",
      "source": [
        "# Decesion Tree"
      ],
      "metadata": {
        "id": "X4CNfxIwDY_e"
      }
    },
    {
      "cell_type": "code",
      "source": [
        "from sklearn.tree import DecisionTreeClassifier\n",
        "\n",
        "dt_model = DecisionTreeClassifier(random_state=42)\n",
        "dt_model.fit(X_train_smote, y_train_smote)\n",
        "\n",
        "# Predict on test data\n",
        "y_pred_dt = dt_model.predict(X_test_scaled)\n",
        "\n",
        "# Get probabilities (for ROC AUC)\n",
        "y_proba_dt = dt_model.predict_proba(X_test_scaled)[:, 1]\n"
      ],
      "metadata": {
        "id": "Icl8ZCUJ0Qpn"
      },
      "execution_count": 249,
      "outputs": []
    },
    {
      "cell_type": "code",
      "source": [
        "from sklearn.metrics import accuracy_score, precision_score, recall_score, f1_score, roc_auc_score, classification_report, confusion_matrix\n",
        "\n",
        "# Print evaluation metrics\n",
        "print(\"Decision Tree Evaluation:\")\n",
        "print(\"Accuracy :\", accuracy_score(y_test, y_pred_dt))\n",
        "print(\"Precision:\", precision_score(y_test, y_pred_dt))\n",
        "print(\"Recall   :\", recall_score(y_test, y_pred_dt))\n",
        "print(\"F1 Score :\", f1_score(y_test, y_pred_dt))\n",
        "print(\"ROC AUC  :\", roc_auc_score(y_test, y_proba_dt))\n",
        "\n",
        "# Confusion Matrix\n",
        "plt.figure(figsize=(6,4))\n",
        "sns.heatmap(confusion_matrix(y_test, y_pred_dt), annot=True, fmt='d', cmap='Oranges')\n",
        "plt.xlabel(\"Predicted\")\n",
        "plt.ylabel(\"Actual\")\n",
        "plt.title(\"Decision Tree - Confusion Matrix\")\n",
        "plt.show()\n",
        "\n",
        "# Classification report\n",
        "print(\"\\nClassification Report:\\n\")\n",
        "print(classification_report(y_test, y_pred_dt))\n"
      ],
      "metadata": {
        "colab": {
          "base_uri": "https://localhost:8080/",
          "height": 731
        },
        "id": "HgptWiDyj4Uz",
        "outputId": "f3664a4f-4a82-461b-950b-88590e0f1b59"
      },
      "execution_count": 250,
      "outputs": [
        {
          "output_type": "stream",
          "name": "stdout",
          "text": [
            "Decision Tree Evaluation:\n",
            "Accuracy : 0.8461384152457372\n",
            "Precision: 0.19349845201238391\n",
            "Recall   : 0.33692722371967654\n",
            "F1 Score : 0.24582104228121926\n",
            "ROC AUC  : 0.631710065580321\n"
          ]
        },
        {
          "output_type": "display_data",
          "data": {
            "text/plain": [
              "<Figure size 600x400 with 2 Axes>"
            ],
            "image/png": "[encoded data removed]"
          },
          "metadata": {}
        },
        {
          "output_type": "stream",
          "name": "stdout",
          "text": [
            "\n",
            "Classification Report:\n",
            "\n",
            "              precision    recall  f1-score   support\n",
            "\n",
            "           0       0.94      0.89      0.91      4614\n",
            "           1       0.19      0.34      0.25       371\n",
            "\n",
            "    accuracy                           0.85      4985\n",
            "   macro avg       0.57      0.61      0.58      4985\n",
            "weighted avg       0.89      0.85      0.86      4985\n",
            "\n"
          ]
        }
      ]
    },
    {
      "cell_type": "code",
      "source": [
        "# Predictions on training and test sets\n",
        "y_train_pred_dt = dt_model.predict(X_train_smote)\n",
        "y_test_pred_dt = dt_model.predict(X_test_scaled)\n",
        "\n",
        "# Accuracy scores\n",
        "train_accuracy = accuracy_score(y_train_smote, y_train_pred_dt)\n",
        "test_accuracy = accuracy_score(y_test, y_test_pred_dt)\n",
        "\n",
        "# Print results\n",
        "print(\"Decision Tree Accuracy Scores:\")\n",
        "print(\"Train Accuracy:\", round(train_accuracy, 4))\n",
        "print(\"Test Accuracy :\", round(test_accuracy, 4))\n"
      ],
      "metadata": {
        "colab": {
          "base_uri": "https://localhost:8080/"
        },
        "id": "ChP0b3tsFrUl",
        "outputId": "21f864e1-54de-4623-e888-437ec79853a9"
      },
      "execution_count": 251,
      "outputs": [
        {
          "output_type": "stream",
          "name": "stdout",
          "text": [
            "Decision Tree Accuracy Scores:\n",
            "Train Accuracy: 0.9671\n",
            "Test Accuracy : 0.8461\n"
          ]
        }
      ]
    },
    {
      "cell_type": "markdown",
      "source": [
        "# Overfitting Exist (Prune the Tree)\n",
        "\n",
        "\n",
        "\n"
      ],
      "metadata": {
        "id": "fLJDGuCQHLOU"
      }
    },
    {
      "cell_type": "code",
      "source": [
        "# Pruned Decision Tree\n",
        "pruned_dt_model = DecisionTreeClassifier(\n",
        "    max_depth=6,\n",
        "    min_samples_split=10,\n",
        "    min_samples_leaf=5,\n",
        "    random_state=42\n",
        ")\n",
        "\n",
        "# Train on SMOTE-balanced data\n",
        "pruned_dt_model.fit(X_train_smote, y_train_smote)\n",
        "\n",
        "# Predict on train and test sets\n",
        "y_train_pred_pruned = pruned_dt_model.predict(X_train_smote)\n",
        "y_test_pred_pruned = pruned_dt_model.predict(X_test_scaled)\n",
        "\n",
        "# Accuracy\n",
        "print(\"Pruned Decision Tree Accuracy Scores:\")\n",
        "print(\"Train Accuracy:\", round(accuracy_score(y_train_smote, y_train_pred_pruned), 4))\n",
        "print(\"Test Accuracy :\", round(accuracy_score(y_test, y_test_pred_pruned), 4))"
      ],
      "metadata": {
        "colab": {
          "base_uri": "https://localhost:8080/"
        },
        "id": "2lPqQ37Vj4SO",
        "outputId": "77a95891-ea41-4db9-cf03-55f824f757cb"
      },
      "execution_count": 252,
      "outputs": [
        {
          "output_type": "stream",
          "name": "stdout",
          "text": [
            "Pruned Decision Tree Accuracy Scores:\n",
            "Train Accuracy: 0.7423\n",
            "Test Accuracy : 0.6798\n"
          ]
        }
      ]
    },
    {
      "cell_type": "code",
      "source": [
        "import joblib\n",
        "joblib.dump(model, 'logistic_regression_model.pkl')\n",
        "joblib.dump(dt_model, 'decision_tree_model.pkl')\n",
        "print(\"Models saved successfully!\")"
      ],
      "metadata": {
        "colab": {
          "base_uri": "https://localhost:8080/"
        },
        "id": "dCWkVmVqJZm6",
        "outputId": "c6e5ae53-9d12-4edb-8e41-1d46111cbac7"
      },
      "execution_count": 253,
      "outputs": [
        {
          "output_type": "stream",
          "name": "stdout",
          "text": [
            "Models saved successfully!\n"
          ]
        }
      ]
    }
  ]
}